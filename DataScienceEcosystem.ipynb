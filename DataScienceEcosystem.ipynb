{
 "cells": [
  {
   "cell_type": "markdown",
   "id": "76d37c68-5be5-443e-821c-59a2d43149ff",
   "metadata": {
    "tags": []
   },
   "source": [
    "# Data Science Tools and Ecosystem "
   ]
  },
  {
   "cell_type": "markdown",
   "id": "3b157e99-69c0-4009-8b73-090bfabbabe1",
   "metadata": {
    "tags": []
   },
   "source": [
    "In this notebook, Data Science Tools and Ecosystem are summarized."
   ]
  },
  {
   "cell_type": "markdown",
   "id": "74196586-c336-4e60-98fb-d8016cf6eeed",
   "metadata": {},
   "source": [
    "**Objectives**\n",
    "+ Popular languages\n",
    "+ Commonly used libraries\n",
    "+ Data science tools\n",
    "+ Python arithmetic examples"
   ]
  },
  {
   "cell_type": "markdown",
   "id": "32b57825-bba4-4b72-a33d-3946c717ce01",
   "metadata": {},
   "source": [
    "Some of the popular languages that Data Scientists use are:\n",
    "1. Python\n",
    "2. C++\n",
    "3. R \n",
    "4. SQL \n",
    "5. Java"
   ]
  },
  {
   "cell_type": "markdown",
   "id": "2cb52ee2-cdbd-4877-be78-4b8e9c2cfe54",
   "metadata": {},
   "source": [
    "Some of the commonly used libraries used by Data Scientists include:\n",
    "1. TensorFlow\n",
    "2. Pandas\n",
    "3. dplyr\n",
    "4. ggplot2"
   ]
  },
  {
   "cell_type": "markdown",
   "id": "4a1ccdfc-ea25-4cc9-8392-371f83ec52a1",
   "metadata": {
    "tags": []
   },
   "source": [
    "| Data Science Tools |\n",
    "| ------------------ |\n",
    "| RStudio            |\n",
    "| Jupyter Notebook   |\n",
    "| Apache Spark       |"
   ]
  },
  {
   "cell_type": "markdown",
   "id": "a94e8938-10e4-4918-9f16-59691bb52284",
   "metadata": {
    "tags": []
   },
   "source": [
    "### Below are a few examples of evaluating arithmetic expressions in Python."
   ]
  },
  {
   "cell_type": "code",
   "execution_count": 1,
   "id": "340fd712-a533-461d-8eaa-f2ed7c7089d2",
   "metadata": {},
   "outputs": [
    {
     "data": {
      "text/plain": [
       "17"
      ]
     },
     "execution_count": 1,
     "metadata": {},
     "output_type": "execute_result"
    }
   ],
   "source": [
    "# This is a simple arithmetic expression to multiply then add integers\n",
    "(3*4)+5"
   ]
  },
  {
   "cell_type": "code",
   "execution_count": 6,
   "id": "6c2dccee-e9e5-4b8c-82f1-9817d920736d",
   "metadata": {},
   "outputs": [
    {
     "data": {
      "text/plain": [
       "3.33"
      ]
     },
     "execution_count": 6,
     "metadata": {},
     "output_type": "execute_result"
    }
   ],
   "source": [
    "# This will convert 200 minutes to hours by dividing by 60. \n",
    "round(200 / 60, 2)"
   ]
  },
  {
   "cell_type": "markdown",
   "id": "f818203b-097e-4275-8ad2-b609c9dae6af",
   "metadata": {},
   "source": [
    "## Author \n",
    "Dionysios Karvounis "
   ]
  },
  {
   "cell_type": "code",
   "execution_count": null,
   "id": "370bd212-6d35-4ab9-9b3e-71e1dcae2134",
   "metadata": {},
   "outputs": [],
   "source": []
  }
 ],
 "metadata": {
  "kernelspec": {
   "display_name": "Python 3 (ipykernel)",
   "language": "python",
   "name": "python3"
  },
  "language_info": {
   "codemirror_mode": {
    "name": "ipython",
    "version": 3
   },
   "file_extension": ".py",
   "mimetype": "text/x-python",
   "name": "python",
   "nbconvert_exporter": "python",
   "pygments_lexer": "ipython3",
   "version": "3.9.7"
  }
 },
 "nbformat": 4,
 "nbformat_minor": 5
}
